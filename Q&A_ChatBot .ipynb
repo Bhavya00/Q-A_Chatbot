{
 "cells": [
  {
   "cell_type": "markdown",
   "metadata": {},
   "source": [
    "### Loading the Data"
   ]
  },
  {
   "cell_type": "code",
   "execution_count": 69,
   "metadata": {},
   "outputs": [],
   "source": [
    "import pickle\n",
    "import numpy as np"
   ]
  },
  {
   "cell_type": "code",
   "execution_count": 70,
   "metadata": {},
   "outputs": [],
   "source": [
    "with open('train_qa.txt','rb') as f: # Unpickling \n",
    "    train_data=pickle.load(f)"
   ]
  },
  {
   "cell_type": "code",
   "execution_count": 71,
   "metadata": {},
   "outputs": [],
   "source": [
    "with open('test_qa.txt','rb') as f:  # Unpickling\n",
    "    test_data=pickle.load(f)"
   ]
  },
  {
   "cell_type": "markdown",
   "metadata": {},
   "source": [
    "### Exploring the format of the Data"
   ]
  },
  {
   "cell_type": "code",
   "execution_count": 72,
   "metadata": {},
   "outputs": [
    {
     "data": {
      "text/plain": [
       "10000"
      ]
     },
     "execution_count": 72,
     "metadata": {},
     "output_type": "execute_result"
    }
   ],
   "source": [
    "len(train_data)"
   ]
  },
  {
   "cell_type": "code",
   "execution_count": 73,
   "metadata": {},
   "outputs": [
    {
     "data": {
      "text/plain": [
       "1000"
      ]
     },
     "execution_count": 73,
     "metadata": {},
     "output_type": "execute_result"
    }
   ],
   "source": [
    "len(test_data)"
   ]
  },
  {
   "cell_type": "code",
   "execution_count": 74,
   "metadata": {},
   "outputs": [],
   "source": [
    "all_data=test_data+train_data"
   ]
  },
  {
   "cell_type": "code",
   "execution_count": 75,
   "metadata": {},
   "outputs": [
    {
     "data": {
      "text/plain": [
       "11000"
      ]
     },
     "execution_count": 75,
     "metadata": {},
     "output_type": "execute_result"
    }
   ],
   "source": [
    "len(all_data)"
   ]
  },
  {
   "cell_type": "markdown",
   "metadata": {},
   "source": [
    "----------------------------------\n",
    "### Setting up vocabulary of all words"
   ]
  },
  {
   "cell_type": "code",
   "execution_count": 76,
   "metadata": {},
   "outputs": [],
   "source": [
    "vocab=set()\n",
    "for story,ques,ans in all_data:\n",
    "    vocab=vocab.union(set(story))\n",
    "    vocab=vocab.union(set(ques))"
   ]
  },
  {
   "cell_type": "code",
   "execution_count": 77,
   "metadata": {},
   "outputs": [],
   "source": [
    "vocab.add('no')"
   ]
  },
  {
   "cell_type": "code",
   "execution_count": 78,
   "metadata": {},
   "outputs": [],
   "source": [
    "vocab.add('yes')"
   ]
  },
  {
   "cell_type": "code",
   "execution_count": 79,
   "metadata": {},
   "outputs": [
    {
     "data": {
      "text/plain": [
       "{'.',\n",
       " '?',\n",
       " 'Daniel',\n",
       " 'Is',\n",
       " 'John',\n",
       " 'Mary',\n",
       " 'Sandra',\n",
       " 'apple',\n",
       " 'back',\n",
       " 'bathroom',\n",
       " 'bedroom',\n",
       " 'discarded',\n",
       " 'down',\n",
       " 'dropped',\n",
       " 'football',\n",
       " 'garden',\n",
       " 'got',\n",
       " 'grabbed',\n",
       " 'hallway',\n",
       " 'in',\n",
       " 'journeyed',\n",
       " 'kitchen',\n",
       " 'left',\n",
       " 'milk',\n",
       " 'moved',\n",
       " 'no',\n",
       " 'office',\n",
       " 'picked',\n",
       " 'put',\n",
       " 'the',\n",
       " 'there',\n",
       " 'to',\n",
       " 'took',\n",
       " 'travelled',\n",
       " 'up',\n",
       " 'went',\n",
       " 'yes'}"
      ]
     },
     "execution_count": 79,
     "metadata": {},
     "output_type": "execute_result"
    }
   ],
   "source": [
    "vocab"
   ]
  },
  {
   "cell_type": "markdown",
   "metadata": {},
   "source": [
    "### Vectorizing the data"
   ]
  },
  {
   "cell_type": "code",
   "execution_count": 80,
   "metadata": {},
   "outputs": [],
   "source": [
    "vocab_len=len(vocab)+1"
   ]
  },
  {
   "cell_type": "code",
   "execution_count": 81,
   "metadata": {},
   "outputs": [
    {
     "data": {
      "text/plain": [
       "38"
      ]
     },
     "execution_count": 81,
     "metadata": {},
     "output_type": "execute_result"
    }
   ],
   "source": [
    "vocab_len"
   ]
  },
  {
   "cell_type": "code",
   "execution_count": 82,
   "metadata": {},
   "outputs": [],
   "source": [
    "# Longest Story\n",
    "all_story_len=[len(data[0]) for data in all_data]"
   ]
  },
  {
   "cell_type": "code",
   "execution_count": 83,
   "metadata": {},
   "outputs": [],
   "source": [
    "max_story_len=max(all_story_len)"
   ]
  },
  {
   "cell_type": "code",
   "execution_count": 84,
   "metadata": {},
   "outputs": [],
   "source": [
    "max_ques_len=max([len(data[1]) for data in all_data])"
   ]
  },
  {
   "cell_type": "code",
   "execution_count": 85,
   "metadata": {},
   "outputs": [
    {
     "data": {
      "text/plain": [
       "6"
      ]
     },
     "execution_count": 85,
     "metadata": {},
     "output_type": "execute_result"
    }
   ],
   "source": [
    "max_ques_len"
   ]
  },
  {
   "cell_type": "code",
   "execution_count": 86,
   "metadata": {},
   "outputs": [],
   "source": [
    "from keras.preprocessing.sequence import pad_sequences\n",
    "from keras.preprocessing.text import Tokenizer "
   ]
  },
  {
   "cell_type": "code",
   "execution_count": 87,
   "metadata": {},
   "outputs": [],
   "source": [
    "# integer encode sequences of words \n",
    "\n",
    "tokenizer= Tokenizer(filters=[])\n",
    "tokenizer.fit_on_texts(vocab)"
   ]
  },
  {
   "cell_type": "code",
   "execution_count": 88,
   "metadata": {},
   "outputs": [
    {
     "data": {
      "text/plain": [
       "{'down': 1,\n",
       " 'mary': 2,\n",
       " 'picked': 3,\n",
       " 'bedroom': 4,\n",
       " 'went': 5,\n",
       " 'football': 6,\n",
       " 'travelled': 7,\n",
       " 'grabbed': 8,\n",
       " 'bathroom': 9,\n",
       " 'john': 10,\n",
       " '.': 11,\n",
       " 'back': 12,\n",
       " 'journeyed': 13,\n",
       " 'kitchen': 14,\n",
       " 'moved': 15,\n",
       " 'took': 16,\n",
       " 'up': 17,\n",
       " 'in': 18,\n",
       " 'daniel': 19,\n",
       " 'no': 20,\n",
       " 'dropped': 21,\n",
       " 'garden': 22,\n",
       " 'left': 23,\n",
       " 'sandra': 24,\n",
       " 'discarded': 25,\n",
       " 'put': 26,\n",
       " '?': 27,\n",
       " 'the': 28,\n",
       " 'apple': 29,\n",
       " 'to': 30,\n",
       " 'milk': 31,\n",
       " 'office': 32,\n",
       " 'yes': 33,\n",
       " 'got': 34,\n",
       " 'is': 35,\n",
       " 'hallway': 36,\n",
       " 'there': 37}"
      ]
     },
     "execution_count": 88,
     "metadata": {},
     "output_type": "execute_result"
    }
   ],
   "source": [
    "tokenizer.word_index"
   ]
  },
  {
   "cell_type": "code",
   "execution_count": 89,
   "metadata": {},
   "outputs": [],
   "source": [
    "train_story_text=[]\n",
    "train_ques_text=[]\n",
    "train_answer=[]"
   ]
  },
  {
   "cell_type": "code",
   "execution_count": 90,
   "metadata": {},
   "outputs": [],
   "source": [
    "for story,ques,ans in train_data:\n",
    "    train_story_text.append(story)\n",
    "    train_ques_text.append(ques)\n",
    "    train_answer.append(ans)"
   ]
  },
  {
   "cell_type": "code",
   "execution_count": 91,
   "metadata": {},
   "outputs": [],
   "source": [
    "train_story_seq=tokenizer.texts_to_sequences(train_story_text)"
   ]
  },
  {
   "cell_type": "markdown",
   "metadata": {},
   "source": [
    "### Functionalize Vectorization"
   ]
  },
  {
   "cell_type": "code",
   "execution_count": 92,
   "metadata": {},
   "outputs": [],
   "source": [
    "def vectorize_stories(data,word_index=tokenizer.word_index,max_story_len=max_story_len,max_ques_len=max_ques_len ):\n",
    "    # Stories=X\n",
    "    X=[]\n",
    "    # Questions=Xq\n",
    "    Xq=[]\n",
    "    # Y Correct Answer (Yes/No)\n",
    "    Y=[]\n",
    "    \n",
    "    for story,query,answer in data:\n",
    "        # Grab the word index for every word in story\n",
    "        x = [word_index[word.lower()] for word in story]\n",
    "        \n",
    "        # Grab the word index for every word in query\n",
    "        xq = [word_index[word.lower()] for word in query]\n",
    "        \n",
    "         # Grab the Answers (either Yes/No so we don't need to use list comprehension here)\n",
    "        # Index 0 is reserved so we're going to use + 1\n",
    "        y=np.zeros(len(word_index)+1)\n",
    "        \n",
    "        y[word_index[answer]] =1\n",
    "        \n",
    "        # Append each set of story,query, and answer to their respective holding lists\n",
    "        X.append(x)\n",
    "        Xq.append(xq)\n",
    "        Y.append(y)\n",
    "        \n",
    "        # Finally, pad the sequences based on their max length so the RNN can be trained on uniformly long sequences.\n",
    "        \n",
    "    # RETURN TUPLE FOR UNPACKING\n",
    "    return(pad_sequences(X,maxlen=max_story_len),pad_sequences(Xq,maxlen=max_ques_len),np.array(Y))"
   ]
  },
  {
   "cell_type": "code",
   "execution_count": 93,
   "metadata": {},
   "outputs": [],
   "source": [
    "inputs_train,queries_train, answer_train=vectorize_stories(train_data)\n",
    "inputs_test,queries_test, answer_test=vectorize_stories(test_data)\n"
   ]
  },
  {
   "cell_type": "code",
   "execution_count": 94,
   "metadata": {},
   "outputs": [
    {
     "data": {
      "text/plain": [
       "array([[ 0,  0,  0, ..., 28,  4, 11],\n",
       "       [ 0,  0,  0, ..., 28, 22, 11],\n",
       "       [ 0,  0,  0, ..., 28, 22, 11],\n",
       "       ...,\n",
       "       [ 0,  0,  0, ..., 28, 29, 11],\n",
       "       [ 0,  0,  0, ..., 28, 22, 11],\n",
       "       [ 0,  0,  0, ..., 29, 37, 11]], dtype=int32)"
      ]
     },
     "execution_count": 94,
     "metadata": {},
     "output_type": "execute_result"
    }
   ],
   "source": [
    "inputs_test"
   ]
  },
  {
   "cell_type": "code",
   "execution_count": 95,
   "metadata": {},
   "outputs": [
    {
     "data": {
      "text/plain": [
       "33"
      ]
     },
     "execution_count": 95,
     "metadata": {},
     "output_type": "execute_result"
    }
   ],
   "source": [
    "tokenizer.word_index['yes']"
   ]
  },
  {
   "cell_type": "code",
   "execution_count": 96,
   "metadata": {},
   "outputs": [
    {
     "data": {
      "text/plain": [
       "20"
      ]
     },
     "execution_count": 96,
     "metadata": {},
     "output_type": "execute_result"
    }
   ],
   "source": [
    "tokenizer.word_index['no']"
   ]
  },
  {
   "cell_type": "code",
   "execution_count": 97,
   "metadata": {},
   "outputs": [
    {
     "data": {
      "text/plain": [
       "array([  0.,   0.,   0.,   0.,   0.,   0.,   0.,   0.,   0.,   0.,   0.,\n",
       "         0.,   0.,   0.,   0.,   0.,   0.,   0.,   0.,   0., 503.,   0.,\n",
       "         0.,   0.,   0.,   0.,   0.,   0.,   0.,   0.,   0.,   0.,   0.,\n",
       "       497.,   0.,   0.,   0.,   0.])"
      ]
     },
     "execution_count": 97,
     "metadata": {},
     "output_type": "execute_result"
    }
   ],
   "source": [
    "sum(answer_test)"
   ]
  },
  {
   "cell_type": "markdown",
   "metadata": {},
   "source": [
    "### Creating the model"
   ]
  },
  {
   "cell_type": "code",
   "execution_count": 98,
   "metadata": {},
   "outputs": [],
   "source": [
    "from keras.models import Sequential, Model\n",
    "from keras.layers.embeddings import Embedding\n",
    "from keras.layers import Input, Activation, Dense, Permute, Dropout\n",
    "from keras.layers import add, dot, concatenate\n",
    "from keras.layers import LSTM"
   ]
  },
  {
   "cell_type": "code",
   "execution_count": 99,
   "metadata": {},
   "outputs": [],
   "source": [
    "# PlaceHolder for input  shape=(max_story_len,batch_size)\n",
    "input_sequence=Input(max_story_len,)\n",
    "question=Input((max_ques_len,))"
   ]
  },
  {
   "cell_type": "code",
   "execution_count": 100,
   "metadata": {},
   "outputs": [],
   "source": [
    "vocab_size=len(vocab)+1"
   ]
  },
  {
   "cell_type": "code",
   "execution_count": 101,
   "metadata": {},
   "outputs": [],
   "source": [
    "# INPUT ENCODER M\n",
    "input_encoder_m = Sequential()\n",
    "input_encoder_m.add(Embedding(input_dim=vocab_size,output_dim=64))\n",
    "input_encoder_m.add(Dropout(0.3))\n",
    "\n",
    "#(samples,story_maxlen,embedding_dim)A"
   ]
  },
  {
   "cell_type": "code",
   "execution_count": 102,
   "metadata": {},
   "outputs": [],
   "source": [
    "# INPUT ENCODER C\n",
    "input_encoder_c = Sequential()\n",
    "input_encoder_c.add(Embedding(input_dim=vocab_size,output_dim=max_ques_len))\n",
    "input_encoder_c.add(Dropout(0.3))\n",
    "\n",
    "#(samples,story_maxlen,max_ques_len)"
   ]
  },
  {
   "cell_type": "code",
   "execution_count": 103,
   "metadata": {},
   "outputs": [],
   "source": [
    "# QUESTION ENCODER \n",
    "question_encoder = Sequential()\n",
    "question_encoder.add(Embedding(input_dim=vocab_size,output_dim=64,input_length=max_ques_len))\n",
    "question_encoder.add(Dropout(0.3))\n",
    "\n",
    "#(samples,query_maxlen,embedding_dim)"
   ]
  },
  {
   "cell_type": "code",
   "execution_count": 104,
   "metadata": {},
   "outputs": [],
   "source": [
    "# ENCODED <----- ENCODER(Input)\n",
    "input_encoded_m = input_encoder_m(input_sequence)\n",
    "input_encoded_c = input_encoder_c(input_sequence)\n",
    "question_encoded= question_encoder(question)\n"
   ]
  },
  {
   "cell_type": "markdown",
   "metadata": {},
   "source": [
    "##### Use dot product to compute the match between first input vector seq and the query"
   ]
  },
  {
   "cell_type": "code",
   "execution_count": 105,
   "metadata": {},
   "outputs": [],
   "source": [
    "match= dot([input_encoded_m,question_encoded],axes=(2,2))\n",
    "match=Activation('softmax')(match)\n"
   ]
  },
  {
   "cell_type": "markdown",
   "metadata": {},
   "source": [
    "#### Add this match matrix with the second input vector sequence"
   ]
  },
  {
   "cell_type": "code",
   "execution_count": 106,
   "metadata": {},
   "outputs": [],
   "source": [
    "response= add([match,input_encoded_c])\n",
    "response=Permute((2,1))(response)"
   ]
  },
  {
   "cell_type": "markdown",
   "metadata": {},
   "source": [
    "#### Concatenate"
   ]
  },
  {
   "cell_type": "code",
   "execution_count": 107,
   "metadata": {},
   "outputs": [],
   "source": [
    "# concatenate the match matrix with the question vector sequence\n",
    "\n",
    "answer=concatenate([response,question_encoded])"
   ]
  },
  {
   "cell_type": "code",
   "execution_count": 108,
   "metadata": {},
   "outputs": [
    {
     "data": {
      "text/plain": [
       "<KerasTensor: shape=(None, 6, 220) dtype=float32 (created by layer 'concatenate_1')>"
      ]
     },
     "execution_count": 108,
     "metadata": {},
     "output_type": "execute_result"
    }
   ],
   "source": [
    "answer"
   ]
  },
  {
   "cell_type": "code",
   "execution_count": 109,
   "metadata": {},
   "outputs": [],
   "source": [
    "# Reduce with RNN (LSTM)\n",
    "\n",
    "answer=LSTM(32)(answer)"
   ]
  },
  {
   "cell_type": "code",
   "execution_count": 110,
   "metadata": {},
   "outputs": [],
   "source": [
    "# Regularization with Dropout\n",
    "\n",
    "answer=Dropout(0.5)(answer)\n",
    "answer=Dense(vocab_size)(answer) # (sample,vocab_size)"
   ]
  },
  {
   "cell_type": "code",
   "execution_count": 111,
   "metadata": {},
   "outputs": [],
   "source": [
    "model=Model([input_sequence,question],answer)"
   ]
  },
  {
   "cell_type": "code",
   "execution_count": 112,
   "metadata": {},
   "outputs": [],
   "source": [
    "model.compile(optimizer='rmsprop',loss='categorical_crossentropy',metrics=['accuracy'])"
   ]
  },
  {
   "cell_type": "code",
   "execution_count": 113,
   "metadata": {},
   "outputs": [
    {
     "name": "stdout",
     "output_type": "stream",
     "text": [
      "Model: \"model_1\"\n",
      "__________________________________________________________________________________________________\n",
      "Layer (type)                    Output Shape         Param #     Connected to                     \n",
      "==================================================================================================\n",
      "input_3 (InputLayer)            [(None, 156)]        0                                            \n",
      "__________________________________________________________________________________________________\n",
      "input_4 (InputLayer)            [(None, 6)]          0                                            \n",
      "__________________________________________________________________________________________________\n",
      "sequential_3 (Sequential)       (None, None, 64)     2432        input_3[0][0]                    \n",
      "__________________________________________________________________________________________________\n",
      "sequential_5 (Sequential)       (None, 6, 64)        2432        input_4[0][0]                    \n",
      "__________________________________________________________________________________________________\n",
      "dot_1 (Dot)                     (None, 156, 6)       0           sequential_3[0][0]               \n",
      "                                                                 sequential_5[0][0]               \n",
      "__________________________________________________________________________________________________\n",
      "activation_1 (Activation)       (None, 156, 6)       0           dot_1[0][0]                      \n",
      "__________________________________________________________________________________________________\n",
      "sequential_4 (Sequential)       (None, None, 6)      228         input_3[0][0]                    \n",
      "__________________________________________________________________________________________________\n",
      "add_1 (Add)                     (None, 156, 6)       0           activation_1[0][0]               \n",
      "                                                                 sequential_4[0][0]               \n",
      "__________________________________________________________________________________________________\n",
      "permute_1 (Permute)             (None, 6, 156)       0           add_1[0][0]                      \n",
      "__________________________________________________________________________________________________\n",
      "concatenate_1 (Concatenate)     (None, 6, 220)       0           permute_1[0][0]                  \n",
      "                                                                 sequential_5[0][0]               \n",
      "__________________________________________________________________________________________________\n",
      "lstm_1 (LSTM)                   (None, 32)           32384       concatenate_1[0][0]              \n",
      "__________________________________________________________________________________________________\n",
      "dropout_7 (Dropout)             (None, 32)           0           lstm_1[0][0]                     \n",
      "__________________________________________________________________________________________________\n",
      "dense_1 (Dense)                 (None, 38)           1254        dropout_7[0][0]                  \n",
      "==================================================================================================\n",
      "Total params: 38,730\n",
      "Trainable params: 38,730\n",
      "Non-trainable params: 0\n",
      "__________________________________________________________________________________________________\n"
     ]
    }
   ],
   "source": [
    "model.summary()"
   ]
  },
  {
   "cell_type": "code",
   "execution_count": 114,
   "metadata": {},
   "outputs": [
    {
     "name": "stdout",
     "output_type": "stream",
     "text": [
      "Epoch 1/120\n",
      "313/313 [==============================] - 4s 7ms/step - loss: 9.5433 - accuracy: 0.2970 - val_loss: 16.1181 - val_accuracy: 0.5030\n",
      "Epoch 2/120\n",
      "313/313 [==============================] - 2s 7ms/step - loss: 11.3759 - accuracy: 0.3721 - val_loss: 16.1181 - val_accuracy: 0.5030\n",
      "Epoch 3/120\n",
      "313/313 [==============================] - 2s 7ms/step - loss: 14.0032 - accuracy: 0.4725 - val_loss: 16.1181 - val_accuracy: 0.5030\n",
      "Epoch 4/120\n",
      "313/313 [==============================] - 2s 6ms/step - loss: 12.4782 - accuracy: 0.4604 - val_loss: 16.1181 - val_accuracy: 0.5030\n",
      "Epoch 5/120\n",
      "313/313 [==============================] - 2s 7ms/step - loss: 10.3945 - accuracy: 0.4710 - val_loss: 8.0107 - val_accuracy: 0.5030\n",
      "Epoch 6/120\n",
      "313/313 [==============================] - 2s 6ms/step - loss: 8.1825 - accuracy: 0.4660 - val_loss: 8.0107 - val_accuracy: 0.5030\n",
      "Epoch 7/120\n",
      "313/313 [==============================] - 2s 7ms/step - loss: 8.4837 - accuracy: 0.4814 - val_loss: 8.0107 - val_accuracy: 0.5030\n",
      "Epoch 8/120\n",
      "313/313 [==============================] - 2s 7ms/step - loss: 9.5215 - accuracy: 0.5035 - val_loss: 8.0107 - val_accuracy: 0.5030\n",
      "Epoch 9/120\n",
      "313/313 [==============================] - 2s 7ms/step - loss: 8.2341 - accuracy: 0.4983 - val_loss: 8.0107 - val_accuracy: 0.5030\n",
      "Epoch 10/120\n",
      "313/313 [==============================] - 2s 6ms/step - loss: 8.5624 - accuracy: 0.4943 - val_loss: 8.0107 - val_accuracy: 0.5030\n",
      "Epoch 11/120\n",
      "313/313 [==============================] - 2s 7ms/step - loss: 8.2800 - accuracy: 0.5007 - val_loss: 8.0107 - val_accuracy: 0.5030\n",
      "Epoch 12/120\n",
      "313/313 [==============================] - 2s 7ms/step - loss: 8.6570 - accuracy: 0.4900 - val_loss: 8.0107 - val_accuracy: 0.5030\n",
      "Epoch 13/120\n",
      "313/313 [==============================] - 2s 7ms/step - loss: 8.5810 - accuracy: 0.5036 - val_loss: 8.0107 - val_accuracy: 0.5030\n",
      "Epoch 14/120\n",
      "313/313 [==============================] - 2s 7ms/step - loss: 8.5172 - accuracy: 0.5011 - val_loss: 8.0107 - val_accuracy: 0.5030\n",
      "Epoch 15/120\n",
      "313/313 [==============================] - 2s 6ms/step - loss: 8.6747 - accuracy: 0.5011 - val_loss: 8.0107 - val_accuracy: 0.5030\n",
      "Epoch 16/120\n",
      "313/313 [==============================] - 2s 6ms/step - loss: 9.2537 - accuracy: 0.4952 - val_loss: 8.0107 - val_accuracy: 0.5030\n",
      "Epoch 17/120\n",
      "313/313 [==============================] - 2s 6ms/step - loss: 9.5150 - accuracy: 0.4981 - val_loss: 8.0107 - val_accuracy: 0.5030\n",
      "Epoch 18/120\n",
      "313/313 [==============================] - 2s 7ms/step - loss: 9.4113 - accuracy: 0.4896 - val_loss: 8.0107 - val_accuracy: 0.5030\n",
      "Epoch 19/120\n",
      "313/313 [==============================] - 2s 7ms/step - loss: 8.7191 - accuracy: 0.4991 - val_loss: 8.0107 - val_accuracy: 0.5030\n",
      "Epoch 20/120\n",
      "313/313 [==============================] - 2s 7ms/step - loss: 9.3337 - accuracy: 0.4984 - val_loss: 8.0107 - val_accuracy: 0.5030\n",
      "Epoch 21/120\n",
      "313/313 [==============================] - 2s 7ms/step - loss: 10.2163 - accuracy: 0.5032 - val_loss: 8.0107 - val_accuracy: 0.5030\n",
      "Epoch 22/120\n",
      "313/313 [==============================] - 2s 7ms/step - loss: 9.5849 - accuracy: 0.5142 - val_loss: 8.0107 - val_accuracy: 0.5030\n",
      "Epoch 23/120\n",
      "313/313 [==============================] - 2s 7ms/step - loss: 10.1432 - accuracy: 0.5056 - val_loss: 8.0107 - val_accuracy: 0.5030\n",
      "Epoch 24/120\n",
      "313/313 [==============================] - 2s 8ms/step - loss: 10.0321 - accuracy: 0.5011 - val_loss: 8.0107 - val_accuracy: 0.5030\n",
      "Epoch 25/120\n",
      "313/313 [==============================] - 3s 9ms/step - loss: 10.8242 - accuracy: 0.5037 - val_loss: 8.0107 - val_accuracy: 0.5030\n",
      "Epoch 26/120\n",
      "313/313 [==============================] - 3s 8ms/step - loss: 10.8472 - accuracy: 0.4974 - val_loss: 8.0107 - val_accuracy: 0.5030\n",
      "Epoch 27/120\n",
      "313/313 [==============================] - 2s 7ms/step - loss: 10.7115 - accuracy: 0.4993 - val_loss: 8.0107 - val_accuracy: 0.5030\n",
      "Epoch 28/120\n",
      "313/313 [==============================] - 2s 7ms/step - loss: 10.3464 - accuracy: 0.5022 - val_loss: 8.0107 - val_accuracy: 0.5030\n",
      "Epoch 29/120\n",
      "313/313 [==============================] - 3s 9ms/step - loss: 11.0711 - accuracy: 0.4909 - val_loss: 16.1181 - val_accuracy: 0.5030\n",
      "Epoch 30/120\n",
      "313/313 [==============================] - 3s 9ms/step - loss: 12.3527 - accuracy: 0.5001 - val_loss: 16.1181 - val_accuracy: 0.5030\n",
      "Epoch 31/120\n",
      "313/313 [==============================] - 3s 9ms/step - loss: 12.0409 - accuracy: 0.4994 - val_loss: 0.1566 - val_accuracy: 0.5030\n",
      "Epoch 32/120\n",
      "313/313 [==============================] - 3s 8ms/step - loss: 11.3455 - accuracy: 0.4976 - val_loss: 8.0107 - val_accuracy: 0.5030\n",
      "Epoch 33/120\n",
      "313/313 [==============================] - 3s 9ms/step - loss: 9.7458 - accuracy: 0.5064 - val_loss: 8.0107 - val_accuracy: 0.5030\n",
      "Epoch 34/120\n",
      "313/313 [==============================] - 3s 9ms/step - loss: 10.0314 - accuracy: 0.5000 - val_loss: 8.0107 - val_accuracy: 0.5030\n",
      "Epoch 35/120\n",
      "313/313 [==============================] - 3s 9ms/step - loss: 9.0907 - accuracy: 0.5014 - val_loss: 8.0107 - val_accuracy: 0.5030\n",
      "Epoch 36/120\n",
      "313/313 [==============================] - 3s 9ms/step - loss: 8.9253 - accuracy: 0.5009 - val_loss: 8.0107 - val_accuracy: 0.5030\n",
      "Epoch 37/120\n",
      "313/313 [==============================] - 3s 9ms/step - loss: 9.4245 - accuracy: 0.5018 - val_loss: 8.0107 - val_accuracy: 0.5030\n",
      "Epoch 38/120\n",
      "313/313 [==============================] - 3s 9ms/step - loss: 9.7277 - accuracy: 0.5073 - val_loss: 8.0107 - val_accuracy: 0.5030\n",
      "Epoch 39/120\n",
      "313/313 [==============================] - 3s 9ms/step - loss: 10.0881 - accuracy: 0.4935 - val_loss: 8.0107 - val_accuracy: 0.5030\n",
      "Epoch 40/120\n",
      "313/313 [==============================] - 3s 9ms/step - loss: 10.4249 - accuracy: 0.5058 - val_loss: 8.0107 - val_accuracy: 0.5030\n",
      "Epoch 41/120\n",
      "313/313 [==============================] - 3s 9ms/step - loss: 10.4721 - accuracy: 0.5056 - val_loss: 8.1074 - val_accuracy: 0.5030\n",
      "Epoch 42/120\n",
      "313/313 [==============================] - 3s 9ms/step - loss: 10.3012 - accuracy: 0.4973 - val_loss: 8.0107 - val_accuracy: 0.5030\n",
      "Epoch 43/120\n",
      "313/313 [==============================] - 3s 8ms/step - loss: 10.5647 - accuracy: 0.5012 - val_loss: 8.0107 - val_accuracy: 0.5030\n",
      "Epoch 44/120\n",
      "313/313 [==============================] - 3s 9ms/step - loss: 9.9574 - accuracy: 0.5054 - val_loss: 8.0107 - val_accuracy: 0.5030\n",
      "Epoch 45/120\n",
      "313/313 [==============================] - 3s 8ms/step - loss: 9.5629 - accuracy: 0.5007 - val_loss: 8.0107 - val_accuracy: 0.5030\n",
      "Epoch 46/120\n",
      "313/313 [==============================] - 3s 8ms/step - loss: 9.7608 - accuracy: 0.4976 - val_loss: 8.0107 - val_accuracy: 0.5030\n",
      "Epoch 47/120\n",
      "313/313 [==============================] - 3s 9ms/step - loss: 9.9449 - accuracy: 0.5005 - val_loss: 8.0107 - val_accuracy: 0.5030\n",
      "Epoch 48/120\n",
      "313/313 [==============================] - 3s 8ms/step - loss: 9.8884 - accuracy: 0.4978 - val_loss: 8.0107 - val_accuracy: 0.5030\n",
      "Epoch 49/120\n",
      "313/313 [==============================] - 3s 9ms/step - loss: 10.3714 - accuracy: 0.5038 - val_loss: 8.0107 - val_accuracy: 0.5030\n",
      "Epoch 50/120\n",
      "313/313 [==============================] - 3s 9ms/step - loss: 10.8950 - accuracy: 0.5018 - val_loss: 8.0107 - val_accuracy: 0.5030\n",
      "Epoch 51/120\n",
      "313/313 [==============================] - 3s 9ms/step - loss: 10.8218 - accuracy: 0.4993 - val_loss: 8.0107 - val_accuracy: 0.5030\n",
      "Epoch 52/120\n",
      "313/313 [==============================] - 3s 9ms/step - loss: 10.4828 - accuracy: 0.5024 - val_loss: 8.1074 - val_accuracy: 0.5030\n",
      "Epoch 53/120\n",
      "313/313 [==============================] - 3s 9ms/step - loss: 10.4823 - accuracy: 0.4941 - val_loss: 8.0107 - val_accuracy: 0.5030\n",
      "Epoch 54/120\n",
      "313/313 [==============================] - 3s 10ms/step - loss: 10.4512 - accuracy: 0.5011 - val_loss: 8.0107 - val_accuracy: 0.5030\n",
      "Epoch 55/120\n",
      "313/313 [==============================] - 3s 9ms/step - loss: 10.3892 - accuracy: 0.5060 - val_loss: 8.0107 - val_accuracy: 0.5030\n",
      "Epoch 56/120\n",
      "313/313 [==============================] - 3s 9ms/step - loss: 11.0305 - accuracy: 0.5025 - val_loss: 8.9265 - val_accuracy: 0.5030\n",
      "Epoch 57/120\n",
      "313/313 [==============================] - 3s 9ms/step - loss: 11.1035 - accuracy: 0.4847 - val_loss: 8.0107 - val_accuracy: 0.5030\n"
     ]
    },
    {
     "name": "stdout",
     "output_type": "stream",
     "text": [
      "Epoch 58/120\n",
      "313/313 [==============================] - 3s 9ms/step - loss: 10.4308 - accuracy: 0.4934 - val_loss: 8.0107 - val_accuracy: 0.5030\n",
      "Epoch 59/120\n",
      "313/313 [==============================] - 3s 9ms/step - loss: 10.4300 - accuracy: 0.4940 - val_loss: 8.0107 - val_accuracy: 0.5030\n",
      "Epoch 60/120\n",
      "313/313 [==============================] - 3s 9ms/step - loss: 10.3136 - accuracy: 0.4893 - val_loss: 8.0107 - val_accuracy: 0.5030\n",
      "Epoch 61/120\n",
      "313/313 [==============================] - 3s 9ms/step - loss: 10.1314 - accuracy: 0.5001 - val_loss: 8.0107 - val_accuracy: 0.5030\n",
      "Epoch 62/120\n",
      "313/313 [==============================] - 3s 9ms/step - loss: 9.7559 - accuracy: 0.4968 - val_loss: 8.0107 - val_accuracy: 0.5030\n",
      "Epoch 63/120\n",
      "313/313 [==============================] - 3s 8ms/step - loss: 9.9226 - accuracy: 0.5004 - val_loss: 8.0107 - val_accuracy: 0.5030\n",
      "Epoch 64/120\n",
      "313/313 [==============================] - 2s 8ms/step - loss: 9.9034 - accuracy: 0.5021 - val_loss: 8.0107 - val_accuracy: 0.5030\n",
      "Epoch 65/120\n",
      "313/313 [==============================] - 2s 6ms/step - loss: 9.9920 - accuracy: 0.4940 - val_loss: 8.0107 - val_accuracy: 0.5030\n",
      "Epoch 66/120\n",
      "313/313 [==============================] - 2s 7ms/step - loss: 10.0699 - accuracy: 0.4918 - val_loss: 8.0107 - val_accuracy: 0.5030\n",
      "Epoch 67/120\n",
      "313/313 [==============================] - 4s 12ms/step - loss: 10.2393 - accuracy: 0.4986 - val_loss: 8.0107 - val_accuracy: 0.5030\n",
      "Epoch 68/120\n",
      "313/313 [==============================] - 2s 7ms/step - loss: 9.8317 - accuracy: 0.4958 - val_loss: 8.0107 - val_accuracy: 0.5030\n",
      "Epoch 69/120\n",
      "313/313 [==============================] - 2s 7ms/step - loss: 9.2674 - accuracy: 0.5025 - val_loss: 8.0107 - val_accuracy: 0.5030\n",
      "Epoch 70/120\n",
      "313/313 [==============================] - 3s 9ms/step - loss: 9.9880 - accuracy: 0.5045 - val_loss: 8.0107 - val_accuracy: 0.5030\n",
      "Epoch 71/120\n",
      "313/313 [==============================] - 3s 9ms/step - loss: 10.1936 - accuracy: 0.4959 - val_loss: 8.0107 - val_accuracy: 0.5030\n",
      "Epoch 72/120\n",
      "313/313 [==============================] - 3s 9ms/step - loss: 9.9978 - accuracy: 0.5044 - val_loss: 8.0107 - val_accuracy: 0.5030\n",
      "Epoch 73/120\n",
      "313/313 [==============================] - 2s 7ms/step - loss: 9.4102 - accuracy: 0.5005 - val_loss: 8.0107 - val_accuracy: 0.5030\n",
      "Epoch 74/120\n",
      "313/313 [==============================] - 3s 9ms/step - loss: 9.2698 - accuracy: 0.4978 - val_loss: 8.0107 - val_accuracy: 0.5030\n",
      "Epoch 75/120\n",
      "313/313 [==============================] - 3s 9ms/step - loss: 9.0192 - accuracy: 0.4917 - val_loss: 8.0107 - val_accuracy: 0.5030\n",
      "Epoch 76/120\n",
      "313/313 [==============================] - 3s 9ms/step - loss: 8.9668 - accuracy: 0.4962 - val_loss: 8.0107 - val_accuracy: 0.5030\n",
      "Epoch 77/120\n",
      "313/313 [==============================] - 3s 10ms/step - loss: 8.9155 - accuracy: 0.4934 - val_loss: 8.0107 - val_accuracy: 0.5030\n",
      "Epoch 78/120\n",
      "313/313 [==============================] - 3s 10ms/step - loss: 9.0083 - accuracy: 0.4923 - val_loss: 8.0107 - val_accuracy: 0.5030\n",
      "Epoch 79/120\n",
      "313/313 [==============================] - 3s 9ms/step - loss: 8.8364 - accuracy: 0.5024 - val_loss: 8.0107 - val_accuracy: 0.5030\n",
      "Epoch 80/120\n",
      "313/313 [==============================] - 3s 9ms/step - loss: 9.1367 - accuracy: 0.5017 - val_loss: 8.0107 - val_accuracy: 0.5030\n",
      "Epoch 81/120\n",
      "313/313 [==============================] - 3s 8ms/step - loss: 9.1725 - accuracy: 0.4933 - val_loss: 8.0107 - val_accuracy: 0.5030\n",
      "Epoch 82/120\n",
      "313/313 [==============================] - 2s 7ms/step - loss: 8.9227 - accuracy: 0.5016 - val_loss: 8.0107 - val_accuracy: 0.5030\n",
      "Epoch 83/120\n",
      "313/313 [==============================] - 2s 7ms/step - loss: 9.1685 - accuracy: 0.4974 - val_loss: 8.0107 - val_accuracy: 0.5030\n",
      "Epoch 84/120\n",
      "313/313 [==============================] - 2s 7ms/step - loss: 9.2566 - accuracy: 0.4944 - val_loss: 8.0107 - val_accuracy: 0.5030\n",
      "Epoch 85/120\n",
      "313/313 [==============================] - 3s 10ms/step - loss: 9.2455 - accuracy: 0.4917 - val_loss: 8.0107 - val_accuracy: 0.5030\n",
      "Epoch 86/120\n",
      "313/313 [==============================] - 2s 7ms/step - loss: 8.9551 - accuracy: 0.5078 - val_loss: 8.0107 - val_accuracy: 0.5030\n",
      "Epoch 87/120\n",
      "313/313 [==============================] - 3s 8ms/step - loss: 9.0836 - accuracy: 0.5003 - val_loss: 8.0107 - val_accuracy: 0.5030\n",
      "Epoch 88/120\n",
      "313/313 [==============================] - 3s 9ms/step - loss: 9.0230 - accuracy: 0.4961 - val_loss: 8.0107 - val_accuracy: 0.5030\n",
      "Epoch 89/120\n",
      "313/313 [==============================] - 3s 9ms/step - loss: 9.1665 - accuracy: 0.4939 - val_loss: 8.0107 - val_accuracy: 0.5030\n",
      "Epoch 90/120\n",
      "313/313 [==============================] - 3s 8ms/step - loss: 8.9132 - accuracy: 0.5041 - val_loss: 8.0107 - val_accuracy: 0.5030\n",
      "Epoch 91/120\n",
      "313/313 [==============================] - 3s 9ms/step - loss: 8.9699 - accuracy: 0.5068 - val_loss: 8.0107 - val_accuracy: 0.5030\n",
      "Epoch 92/120\n",
      "313/313 [==============================] - 3s 9ms/step - loss: 8.7954 - accuracy: 0.4998 - val_loss: 8.0107 - val_accuracy: 0.5030\n",
      "Epoch 93/120\n",
      "313/313 [==============================] - 3s 9ms/step - loss: 9.3062 - accuracy: 0.4934 - val_loss: 8.0107 - val_accuracy: 0.5030\n",
      "Epoch 94/120\n",
      "313/313 [==============================] - 3s 9ms/step - loss: 9.1097 - accuracy: 0.4938 - val_loss: 8.0107 - val_accuracy: 0.5030\n",
      "Epoch 95/120\n",
      "313/313 [==============================] - 3s 9ms/step - loss: 8.9292 - accuracy: 0.4995 - val_loss: 8.0107 - val_accuracy: 0.5030\n",
      "Epoch 96/120\n",
      "313/313 [==============================] - 2s 8ms/step - loss: 9.0810 - accuracy: 0.5012 - val_loss: 8.0107 - val_accuracy: 0.5030\n",
      "Epoch 97/120\n",
      "313/313 [==============================] - 2s 7ms/step - loss: 9.1350 - accuracy: 0.4894 - val_loss: 8.0107 - val_accuracy: 0.5030\n",
      "Epoch 98/120\n",
      "313/313 [==============================] - 3s 9ms/step - loss: 8.8666 - accuracy: 0.4941 - val_loss: 8.0107 - val_accuracy: 0.5030\n",
      "Epoch 99/120\n",
      "313/313 [==============================] - 3s 8ms/step - loss: 9.1770 - accuracy: 0.4873 - val_loss: 8.0107 - val_accuracy: 0.5030\n",
      "Epoch 100/120\n",
      "313/313 [==============================] - 3s 9ms/step - loss: 9.0099 - accuracy: 0.4995 - val_loss: 8.0107 - val_accuracy: 0.5030\n",
      "Epoch 101/120\n",
      "313/313 [==============================] - 3s 9ms/step - loss: 9.4697 - accuracy: 0.5022 - val_loss: 8.0107 - val_accuracy: 0.5030\n",
      "Epoch 102/120\n",
      "313/313 [==============================] - 2s 7ms/step - loss: 9.6487 - accuracy: 0.4920 - val_loss: 8.0107 - val_accuracy: 0.5030\n",
      "Epoch 103/120\n",
      "313/313 [==============================] - 3s 9ms/step - loss: 9.3765 - accuracy: 0.4994 - val_loss: 8.0107 - val_accuracy: 0.5030\n",
      "Epoch 104/120\n",
      "313/313 [==============================] - 3s 9ms/step - loss: 9.3882 - accuracy: 0.4982 - val_loss: 8.0107 - val_accuracy: 0.5030\n",
      "Epoch 105/120\n",
      "313/313 [==============================] - 3s 11ms/step - loss: 9.2799 - accuracy: 0.4976 - val_loss: 8.0107 - val_accuracy: 0.5030\n",
      "Epoch 106/120\n",
      "313/313 [==============================] - 2s 7ms/step - loss: 9.1041 - accuracy: 0.5012 - val_loss: 8.0107 - val_accuracy: 0.5030\n",
      "Epoch 107/120\n",
      "313/313 [==============================] - 2s 7ms/step - loss: 9.0795 - accuracy: 0.5010 - val_loss: 8.0107 - val_accuracy: 0.5030\n",
      "Epoch 108/120\n",
      "313/313 [==============================] - 2s 7ms/step - loss: 9.3398 - accuracy: 0.4990 - val_loss: 8.0107 - val_accuracy: 0.5030\n",
      "Epoch 109/120\n",
      "313/313 [==============================] - 2s 7ms/step - loss: 9.3699 - accuracy: 0.4966 - val_loss: 8.0107 - val_accuracy: 0.5030\n",
      "Epoch 110/120\n",
      "313/313 [==============================] - 3s 8ms/step - loss: 9.5388 - accuracy: 0.5009 - val_loss: 8.0107 - val_accuracy: 0.5030\n",
      "Epoch 111/120\n",
      "313/313 [==============================] - 3s 9ms/step - loss: 9.7917 - accuracy: 0.5002 - val_loss: 8.0107 - val_accuracy: 0.5030\n",
      "Epoch 112/120\n",
      "313/313 [==============================] - 3s 9ms/step - loss: 9.7125 - accuracy: 0.5035 - val_loss: 8.0107 - val_accuracy: 0.5030\n",
      "Epoch 113/120\n",
      "313/313 [==============================] - 3s 8ms/step - loss: 9.6570 - accuracy: 0.4954 - val_loss: 8.0107 - val_accuracy: 0.5030\n",
      "Epoch 114/120\n",
      "313/313 [==============================] - 2s 7ms/step - loss: 9.2147 - accuracy: 0.4985 - val_loss: 8.0107 - val_accuracy: 0.5030\n"
     ]
    },
    {
     "name": "stdout",
     "output_type": "stream",
     "text": [
      "Epoch 115/120\n",
      "313/313 [==============================] - 2s 7ms/step - loss: 9.1051 - accuracy: 0.5001 - val_loss: 8.0107 - val_accuracy: 0.5030\n",
      "Epoch 116/120\n",
      "313/313 [==============================] - 3s 9ms/step - loss: 9.2465 - accuracy: 0.5030 - val_loss: 8.0107 - val_accuracy: 0.5030\n",
      "Epoch 117/120\n",
      "313/313 [==============================] - 3s 8ms/step - loss: 9.2594 - accuracy: 0.4938 - val_loss: 8.0107 - val_accuracy: 0.5030\n",
      "Epoch 118/120\n",
      "313/313 [==============================] - 3s 9ms/step - loss: 9.1891 - accuracy: 0.4959 - val_loss: 8.0107 - val_accuracy: 0.5030\n",
      "Epoch 119/120\n",
      "313/313 [==============================] - 3s 8ms/step - loss: 9.3804 - accuracy: 0.4975 - val_loss: 8.0107 - val_accuracy: 0.5030\n",
      "Epoch 120/120\n",
      "313/313 [==============================] - 2s 7ms/step - loss: 9.5014 - accuracy: 0.5031 - val_loss: 8.0107 - val_accuracy: 0.5030\n"
     ]
    }
   ],
   "source": [
    "history=model.fit([inputs_train,queries_train],answer_train,batch_size=32,epochs=120,validation_data=([inputs_test,queries_test],answer_test))"
   ]
  },
  {
   "cell_type": "code",
   "execution_count": 115,
   "metadata": {},
   "outputs": [],
   "source": [
    "filename = 'chatbot_120epoch.h5'\n",
    "model.save(filename)"
   ]
  },
  {
   "cell_type": "markdown",
   "metadata": {},
   "source": [
    "## Evaluating the model"
   ]
  },
  {
   "cell_type": "markdown",
   "metadata": {},
   "source": [
    "### Plotting our training history"
   ]
  },
  {
   "cell_type": "code",
   "execution_count": 116,
   "metadata": {},
   "outputs": [
    {
     "name": "stdout",
     "output_type": "stream",
     "text": [
      "dict_keys(['loss', 'accuracy', 'val_loss', 'val_accuracy'])\n"
     ]
    },
    {
     "data": {
      "image/png": "[encoded data removed]",
      "text/plain": [
       "<Figure size 432x288 with 1 Axes>"
      ]
     },
     "metadata": {
      "needs_background": "light"
     },
     "output_type": "display_data"
    }
   ],
   "source": [
    "import matplotlib.pyplot as plt\n",
    "%matplotlib inline\n",
    "print(history.history.keys())\n",
    "# summarize history for accuracy\n",
    "plt.plot(history.history['accuracy'])\n",
    "plt.plot(history.history['val_accuracy'])\n",
    "plt.title('model accuracy')\n",
    "plt.ylabel('accuracy')\n",
    "plt.xlabel('epoch')\n",
    "plt.legend(['train', 'test'], loc='upper left')\n",
    "plt.show()"
   ]
  },
  {
   "cell_type": "markdown",
   "metadata": {},
   "source": [
    "### Evaluating on given testset"
   ]
  },
  {
   "cell_type": "code",
   "execution_count": 117,
   "metadata": {},
   "outputs": [],
   "source": [
    "model.load_weights('chatbot_120epoch.h5')"
   ]
  },
  {
   "cell_type": "code",
   "execution_count": 118,
   "metadata": {},
   "outputs": [],
   "source": [
    "pred_results=model.predict(([inputs_test,queries_test]))"
   ]
  },
  {
   "cell_type": "code",
   "execution_count": 119,
   "metadata": {},
   "outputs": [
    {
     "data": {
      "text/plain": [
       "(1000, 38)"
      ]
     },
     "execution_count": 119,
     "metadata": {},
     "output_type": "execute_result"
    }
   ],
   "source": [
    "pred_results.shape"
   ]
  },
  {
   "cell_type": "code",
   "execution_count": 120,
   "metadata": {},
   "outputs": [
    {
     "name": "stdout",
     "output_type": "stream",
     "text": [
      "Mary got the milk there . John moved to the bedroom .\n"
     ]
    }
   ],
   "source": [
    "story =' '.join(word for word in test_data[0][0])\n",
    "print(story)"
   ]
  },
  {
   "cell_type": "code",
   "execution_count": 121,
   "metadata": {},
   "outputs": [
    {
     "name": "stdout",
     "output_type": "stream",
     "text": [
      "Is John in the kitchen ?\n"
     ]
    }
   ],
   "source": [
    "query = ' '.join(word for word in test_data[0][1])\n",
    "print(query)"
   ]
  },
  {
   "cell_type": "code",
   "execution_count": 122,
   "metadata": {},
   "outputs": [
    {
     "name": "stdout",
     "output_type": "stream",
     "text": [
      "True Test Answer from Data is: no\n"
     ]
    }
   ],
   "source": [
    "print(\"True Test Answer from Data is:\",test_data[0][2])"
   ]
  },
  {
   "cell_type": "code",
   "execution_count": 123,
   "metadata": {},
   "outputs": [
    {
     "name": "stdout",
     "output_type": "stream",
     "text": [
      "Predicted answer is:  no\n",
      "Probability of certainty was:  10.831581\n"
     ]
    }
   ],
   "source": [
    "#Generate prediction from model\n",
    "val_max = np.argmax(pred_results[0])\n",
    "\n",
    "for key, val in tokenizer.word_index.items():\n",
    "    if val == val_max:\n",
    "        k = key\n",
    "\n",
    "print(\"Predicted answer is: \", k)\n",
    "print(\"Probability of certainty was: \", pred_results[0][val_max])"
   ]
  },
  {
   "cell_type": "markdown",
   "metadata": {},
   "source": [
    "## Writing our own story and questions."
   ]
  },
  {
   "cell_type": "code",
   "execution_count": 124,
   "metadata": {},
   "outputs": [
    {
     "data": {
      "text/plain": [
       "{'.',\n",
       " '?',\n",
       " 'Daniel',\n",
       " 'Is',\n",
       " 'John',\n",
       " 'Mary',\n",
       " 'Sandra',\n",
       " 'apple',\n",
       " 'back',\n",
       " 'bathroom',\n",
       " 'bedroom',\n",
       " 'discarded',\n",
       " 'down',\n",
       " 'dropped',\n",
       " 'football',\n",
       " 'garden',\n",
       " 'got',\n",
       " 'grabbed',\n",
       " 'hallway',\n",
       " 'in',\n",
       " 'journeyed',\n",
       " 'kitchen',\n",
       " 'left',\n",
       " 'milk',\n",
       " 'moved',\n",
       " 'no',\n",
       " 'office',\n",
       " 'picked',\n",
       " 'put',\n",
       " 'the',\n",
       " 'there',\n",
       " 'to',\n",
       " 'took',\n",
       " 'travelled',\n",
       " 'up',\n",
       " 'went',\n",
       " 'yes'}"
      ]
     },
     "execution_count": 124,
     "metadata": {},
     "output_type": "execute_result"
    }
   ],
   "source": [
    "vocab"
   ]
  },
  {
   "cell_type": "code",
   "execution_count": 125,
   "metadata": {},
   "outputs": [],
   "source": [
    "my_story=\"John left the kitchen . Sandra dropped the football in the garden .\""
   ]
  },
  {
   "cell_type": "code",
   "execution_count": 126,
   "metadata": {},
   "outputs": [
    {
     "data": {
      "text/plain": [
       "['John',\n",
       " 'left',\n",
       " 'the',\n",
       " 'kitchen',\n",
       " '.',\n",
       " 'Sandra',\n",
       " 'dropped',\n",
       " 'the',\n",
       " 'football',\n",
       " 'in',\n",
       " 'the',\n",
       " 'garden',\n",
       " '.']"
      ]
     },
     "execution_count": 126,
     "metadata": {},
     "output_type": "execute_result"
    }
   ],
   "source": [
    "my_story.split()"
   ]
  },
  {
   "cell_type": "code",
   "execution_count": 127,
   "metadata": {},
   "outputs": [],
   "source": [
    "my_question=\"Is the football in the garden ?\""
   ]
  },
  {
   "cell_type": "code",
   "execution_count": 128,
   "metadata": {},
   "outputs": [
    {
     "data": {
      "text/plain": [
       "['Is', 'the', 'football', 'in', 'the', 'garden', '?']"
      ]
     },
     "execution_count": 128,
     "metadata": {},
     "output_type": "execute_result"
    }
   ],
   "source": [
    "my_question.split()"
   ]
  },
  {
   "cell_type": "code",
   "execution_count": 129,
   "metadata": {},
   "outputs": [],
   "source": [
    "my_data=[(my_story.split(),my_question.split(),'yes')]"
   ]
  },
  {
   "cell_type": "code",
   "execution_count": 130,
   "metadata": {},
   "outputs": [
    {
     "data": {
      "text/plain": [
       "[(['John',\n",
       "   'left',\n",
       "   'the',\n",
       "   'kitchen',\n",
       "   '.',\n",
       "   'Sandra',\n",
       "   'dropped',\n",
       "   'the',\n",
       "   'football',\n",
       "   'in',\n",
       "   'the',\n",
       "   'garden',\n",
       "   '.'],\n",
       "  ['Is', 'the', 'football', 'in', 'the', 'garden', '?'],\n",
       "  'yes')]"
      ]
     },
     "execution_count": 130,
     "metadata": {},
     "output_type": "execute_result"
    }
   ],
   "source": [
    "my_data"
   ]
  },
  {
   "cell_type": "code",
   "execution_count": 131,
   "metadata": {},
   "outputs": [],
   "source": [
    "my_story, my_question, my_ans=vectorize_stories(my_data)"
   ]
  },
  {
   "cell_type": "code",
   "execution_count": 132,
   "metadata": {},
   "outputs": [
    {
     "data": {
      "text/plain": [
       "[(['John',\n",
       "   'left',\n",
       "   'the',\n",
       "   'kitchen',\n",
       "   '.',\n",
       "   'Sandra',\n",
       "   'dropped',\n",
       "   'the',\n",
       "   'football',\n",
       "   'in',\n",
       "   'the',\n",
       "   'garden',\n",
       "   '.'],\n",
       "  ['Is', 'the', 'football', 'in', 'the', 'garden', '?'],\n",
       "  'yes')]"
      ]
     },
     "execution_count": 132,
     "metadata": {},
     "output_type": "execute_result"
    }
   ],
   "source": [
    "my_data"
   ]
  },
  {
   "cell_type": "code",
   "execution_count": 133,
   "metadata": {},
   "outputs": [
    {
     "data": {
      "text/plain": [
       "array([[ 0,  0,  0,  0,  0,  0,  0,  0,  0,  0,  0,  0,  0,  0,  0,  0,\n",
       "         0,  0,  0,  0,  0,  0,  0,  0,  0,  0,  0,  0,  0,  0,  0,  0,\n",
       "         0,  0,  0,  0,  0,  0,  0,  0,  0,  0,  0,  0,  0,  0,  0,  0,\n",
       "         0,  0,  0,  0,  0,  0,  0,  0,  0,  0,  0,  0,  0,  0,  0,  0,\n",
       "         0,  0,  0,  0,  0,  0,  0,  0,  0,  0,  0,  0,  0,  0,  0,  0,\n",
       "         0,  0,  0,  0,  0,  0,  0,  0,  0,  0,  0,  0,  0,  0,  0,  0,\n",
       "         0,  0,  0,  0,  0,  0,  0,  0,  0,  0,  0,  0,  0,  0,  0,  0,\n",
       "         0,  0,  0,  0,  0,  0,  0,  0,  0,  0,  0,  0,  0,  0,  0,  0,\n",
       "         0,  0,  0,  0,  0,  0,  0,  0,  0,  0,  0,  0,  0,  0,  0, 10,\n",
       "        23, 28, 14, 11, 24, 21, 28,  6, 18, 28, 22, 11]], dtype=int32)"
      ]
     },
     "execution_count": 133,
     "metadata": {},
     "output_type": "execute_result"
    }
   ],
   "source": [
    "my_story"
   ]
  },
  {
   "cell_type": "code",
   "execution_count": 134,
   "metadata": {},
   "outputs": [],
   "source": [
    "pred_results=model.predict(([my_story,my_question]))"
   ]
  },
  {
   "cell_type": "code",
   "execution_count": 135,
   "metadata": {},
   "outputs": [
    {
     "data": {
      "text/plain": [
       "(1, 38)"
      ]
     },
     "execution_count": 135,
     "metadata": {},
     "output_type": "execute_result"
    }
   ],
   "source": [
    "pred_results.shape"
   ]
  },
  {
   "cell_type": "code",
   "execution_count": 136,
   "metadata": {},
   "outputs": [
    {
     "name": "stdout",
     "output_type": "stream",
     "text": [
      "Predicted answer is:  no\n",
      "Probability of certainty was:  10.834788\n"
     ]
    }
   ],
   "source": [
    "#Generate prediction from model\n",
    "val_max = np.argmax(pred_results[0])\n",
    "\n",
    "for key, val in tokenizer.word_index.items():\n",
    "    if val == val_max:\n",
    "        k = key\n",
    "\n",
    "print(\"Predicted answer is: \", k)\n",
    "print(\"Probability of certainty was: \", pred_results[0][val_max])"
   ]
  },
  {
   "cell_type": "code",
   "execution_count": null,
   "metadata": {},
   "outputs": [],
   "source": []
  }
 ],
 "metadata": {
  "kernelspec": {
   "display_name": "Python 3",
   "language": "python",
   "name": "python3"
  },
  "language_info": {
   "codemirror_mode": {
    "name": "ipython",
    "version": 3
   },
   "file_extension": ".py",
   "mimetype": "text/x-python",
   "name": "python",
   "nbconvert_exporter": "python",
   "pygments_lexer": "ipython3",
   "version": "3.8.10"
  }
 },
 "nbformat": 4,
 "nbformat_minor": 4
}
